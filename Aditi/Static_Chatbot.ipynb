{
  "nbformat": 4,
  "nbformat_minor": 0,
  "metadata": {
    "kernelspec": {
      "language": "python",
      "display_name": "Python 3",
      "name": "python3"
    },
    "language_info": {
      "name": "python",
      "version": "3.7.6",
      "mimetype": "text/x-python",
      "codemirror_mode": {
        "name": "ipython",
        "version": 3
      },
      "pygments_lexer": "ipython3",
      "nbconvert_exporter": "python",
      "file_extension": ".py"
    },
    "colab": {
      "name": "Static Chatbot.ipynb",
      "provenance": [],
      "collapsed_sections": []
    }
  },
  "cells": [
    {
      "cell_type": "markdown",
      "metadata": {
        "id": "4i0qWfkaq3rK"
      },
      "source": [
        "\n",
        "# **CHATBOT USING STATIC DATASET**"
      ]
    },
    {
      "cell_type": "markdown",
      "metadata": {
        "id": "qiX5xbYMM4ni"
      },
      "source": [
        "**Importing Useful** **Libraries** "
      ]
    },
    {
      "cell_type": "code",
      "metadata": {
        "_uuid": "8f2839f25d086af736a60e9eeb907d3b93b6e0e5",
        "_cell_guid": "b1076dfc-b9ad-4769-8c92-a6c4dae69d19",
        "execution": {
          "iopub.status.busy": "2021-09-21T18:27:07.961405Z",
          "iopub.execute_input": "2021-09-21T18:27:07.961982Z",
          "iopub.status.idle": "2021-09-21T18:27:09.505967Z",
          "shell.execute_reply.started": "2021-09-21T18:27:07.961948Z",
          "shell.execute_reply": "2021-09-21T18:27:09.505221Z"
        },
        "trusted": true,
        "id": "D5VNhzN5HmT3"
      },
      "source": [
        "#for importing and manuplating data\n",
        "import numpy as np \n",
        "import pandas as pd \n",
        "import string\n",
        "import csv\n",
        "\n",
        "#for fitting model\n",
        "from sklearn.feature_extraction.text import CountVectorizer\n",
        "from sklearn.tree import DecisionTreeClassifier\n",
        "from sklearn.feature_extraction.text import TfidfTransformer,TfidfVectorizer\n",
        "from sklearn.pipeline import Pipeline\n",
        "\n",
        "#connecting with google, request data and apllying nlp\n",
        "import requests\n",
        "from lxml import html\n",
        "from googlesearch import search\n",
        "from bs4 import BeautifulSoup\n",
        "import string\n",
        "import urllib.request \n",
        "from urllib.request import urlopen\n",
        "import re\n",
        "import spacy\n",
        "from spacy.lang.en.stop_words import STOP_WORDS"
      ],
      "execution_count": null,
      "outputs": []
    },
    {
      "cell_type": "markdown",
      "metadata": {
        "id": "ZVJ89TodNWbp"
      },
      "source": [
        "**Importing Dataset From Drive**"
      ]
    },
    {
      "cell_type": "code",
      "metadata": {
        "execution": {
          "iopub.status.busy": "2021-09-21T18:27:09.507767Z",
          "iopub.execute_input": "2021-09-21T18:27:09.508334Z",
          "iopub.status.idle": "2021-09-21T18:27:09.541897Z",
          "shell.execute_reply.started": "2021-09-21T18:27:09.508292Z",
          "shell.execute_reply": "2021-09-21T18:27:09.541148Z"
        },
        "trusted": true,
        "id": "i-h1qvwBHmT7"
      },
      "source": [
        "#original data is in the form of google sheets\n",
        "#converting sheets to csv file\n",
        "\n",
        "sheet_url = 'https://docs.google.com/spreadsheets/d/1KqvA5O9hH62UQWYpn2DVA5Pf4Kofp4gk51hZLVSuJpw/edit#gid=0'\n",
        "\n",
        "csv_file = sheet_url.replace('/edit#gid=', '/export?format=csv&gid=')\n",
        "\n",
        "#reading dataset into variable 'df'\n",
        "df = pd.read_csv(csv_file)"
      ],
      "execution_count": null,
      "outputs": []
    },
    {
      "cell_type": "code",
      "metadata": {
        "execution": {
          "iopub.status.busy": "2021-09-21T18:27:09.548780Z",
          "iopub.execute_input": "2021-09-21T18:27:09.549103Z",
          "iopub.status.idle": "2021-09-21T18:27:09.572942Z",
          "shell.execute_reply.started": "2021-09-21T18:27:09.549050Z",
          "shell.execute_reply": "2021-09-21T18:27:09.571846Z"
        },
        "trusted": true,
        "id": "GxRB4xTlHmT8",
        "colab": {
          "base_uri": "https://localhost:8080/",
          "height": 419
        },
        "outputId": "1982674c-b766-43e5-a767-435f2a0a4004"
      },
      "source": [
        "#reviewing data\n",
        "\n",
        "df"
      ],
      "execution_count": null,
      "outputs": [
        {
          "output_type": "execute_result",
          "data": {
            "text/html": [
              "<div>\n",
              "<style scoped>\n",
              "    .dataframe tbody tr th:only-of-type {\n",
              "        vertical-align: middle;\n",
              "    }\n",
              "\n",
              "    .dataframe tbody tr th {\n",
              "        vertical-align: top;\n",
              "    }\n",
              "\n",
              "    .dataframe thead th {\n",
              "        text-align: right;\n",
              "    }\n",
              "</style>\n",
              "<table border=\"1\" class=\"dataframe\">\n",
              "  <thead>\n",
              "    <tr style=\"text-align: right;\">\n",
              "      <th></th>\n",
              "      <th>User</th>\n",
              "      <th>Chatbot</th>\n",
              "    </tr>\n",
              "  </thead>\n",
              "  <tbody>\n",
              "    <tr>\n",
              "      <th>0</th>\n",
              "      <td>Drug Reaction</td>\n",
              "      <td>stop irritation,consult nearest hospital,stop ...</td>\n",
              "    </tr>\n",
              "    <tr>\n",
              "      <th>1</th>\n",
              "      <td>Malaria</td>\n",
              "      <td>Consult nearest hospital,avoid oily food,avoid...</td>\n",
              "    </tr>\n",
              "    <tr>\n",
              "      <th>2</th>\n",
              "      <td>Allergy</td>\n",
              "      <td>apply calamine,cover area with bandage,use ice...</td>\n",
              "    </tr>\n",
              "    <tr>\n",
              "      <th>3</th>\n",
              "      <td>Hypothyroidism</td>\n",
              "      <td>reduce stress,exercise,exercise,get proper sleep</td>\n",
              "    </tr>\n",
              "    <tr>\n",
              "      <th>4</th>\n",
              "      <td>Psoriasis</td>\n",
              "      <td>wash hands with warm soapy water,stop bleeding...</td>\n",
              "    </tr>\n",
              "    <tr>\n",
              "      <th>...</th>\n",
              "      <td>...</td>\n",
              "      <td>...</td>\n",
              "    </tr>\n",
              "    <tr>\n",
              "      <th>139</th>\n",
              "      <td>book an appointment for me</td>\n",
              "      <td>Sorry, I can't help you with this</td>\n",
              "    </tr>\n",
              "    <tr>\n",
              "      <th>140</th>\n",
              "      <td>name a hospital near me</td>\n",
              "      <td>Sorry, I can't help you with this</td>\n",
              "    </tr>\n",
              "    <tr>\n",
              "      <th>141</th>\n",
              "      <td>do you know my location?</td>\n",
              "      <td>Sorry, I can't help you with this</td>\n",
              "    </tr>\n",
              "    <tr>\n",
              "      <th>142</th>\n",
              "      <td>can you help me?</td>\n",
              "      <td>Yes, I think I can. Please enter a disease and...</td>\n",
              "    </tr>\n",
              "    <tr>\n",
              "      <th>143</th>\n",
              "      <td>Do you know me?</td>\n",
              "      <td>Yes, I know you are my friend!</td>\n",
              "    </tr>\n",
              "  </tbody>\n",
              "</table>\n",
              "<p>144 rows × 2 columns</p>\n",
              "</div>"
            ],
            "text/plain": [
              "                           User                                            Chatbot\n",
              "0                 Drug Reaction  stop irritation,consult nearest hospital,stop ...\n",
              "1                       Malaria  Consult nearest hospital,avoid oily food,avoid...\n",
              "2                       Allergy  apply calamine,cover area with bandage,use ice...\n",
              "3                Hypothyroidism   reduce stress,exercise,exercise,get proper sleep\n",
              "4                     Psoriasis  wash hands with warm soapy water,stop bleeding...\n",
              "..                          ...                                                ...\n",
              "139  book an appointment for me                  Sorry, I can't help you with this\n",
              "140     name a hospital near me                  Sorry, I can't help you with this\n",
              "141    do you know my location?                  Sorry, I can't help you with this\n",
              "142            can you help me?  Yes, I think I can. Please enter a disease and...\n",
              "143             Do you know me?                     Yes, I know you are my friend!\n",
              "\n",
              "[144 rows x 2 columns]"
            ]
          },
          "metadata": {},
          "execution_count": 3
        }
      ]
    },
    {
      "cell_type": "markdown",
      "metadata": {
        "id": "8rYBxYddT91-"
      },
      "source": [
        "**Working on Healthcare Dataset**"
      ]
    },
    {
      "cell_type": "code",
      "metadata": {
        "colab": {
          "base_uri": "https://localhost:8080/"
        },
        "id": "EjH-IhKrAMb4",
        "outputId": "49f2e29f-9b16-417f-c4fc-a89f4ab74edf"
      },
      "source": [
        "#checking for empty columns\n",
        "\n",
        "df['Chatbot'].isnull().sum()"
      ],
      "execution_count": null,
      "outputs": [
        {
          "output_type": "execute_result",
          "data": {
            "text/plain": [
              "32"
            ]
          },
          "metadata": {},
          "execution_count": 4
        }
      ]
    },
    {
      "cell_type": "code",
      "metadata": {
        "id": "JASPRO1_Am1a"
      },
      "source": [
        "#removing rows with empty columns\n",
        "\n",
        "df = df.dropna()"
      ],
      "execution_count": null,
      "outputs": []
    },
    {
      "cell_type": "markdown",
      "metadata": {
        "id": "UX4KCTCXV9hF"
      },
      "source": [
        "\n",
        "### Dataset is now ready for use"
      ]
    },
    {
      "cell_type": "code",
      "metadata": {
        "colab": {
          "base_uri": "https://localhost:8080/"
        },
        "id": "-V8a4zm1kwew",
        "outputId": "c1a36b32-edb5-4e8f-c87a-a5320612c763"
      },
      "source": [
        "#connecting to user inputs dataset\n",
        "\n",
        "from google.colab import drive\n",
        "drive.mount('/content/drive', force_remount=True)"
      ],
      "execution_count": null,
      "outputs": [
        {
          "output_type": "stream",
          "name": "stdout",
          "text": [
            "Mounted at /content/drive\n"
          ]
        }
      ]
    },
    {
      "cell_type": "code",
      "metadata": {
        "id": "a9SofytNdf2u"
      },
      "source": [
        "#input function\n",
        "\n",
        "def user_input():\n",
        "  a = \"Hello there! I am Reyana, your healthcare assistant. Please enter your details to continue.\"\n",
        "  b = \"Enter your \"\n",
        "  fields = ['name', 'email', 'age', 'current location']                       #fields of input\n",
        "  result = []\n",
        "\n",
        "  print(a)\n",
        "  for i in range(len(fields)):\n",
        "    print(b+fields[i])\n",
        "    inp = input()\n",
        "    result.append(inp)\n",
        "\n",
        "  #input to a csv file\n",
        "  filename = '/content/drive/MyDrive/Healthcare Chatbot 1/User_dataset.csv' \n",
        "    \n",
        "  with open(filename, 'a+', newline='\\n', encoding='UTF8') as f:\n",
        "    writer = csv.writer(f)\n",
        "    writer.writerow(result)\n",
        "    f.close()\n"
      ],
      "execution_count": null,
      "outputs": []
    },
    {
      "cell_type": "code",
      "metadata": {
        "colab": {
          "base_uri": "https://localhost:8080/"
        },
        "id": "0aO9U1FXpiXI",
        "outputId": "33ccec5a-9134-4ed9-cee7-87badfdd27f4"
      },
      "source": [
        "#calling input function\n",
        "\n",
        "user_input()"
      ],
      "execution_count": null,
      "outputs": [
        {
          "name": "stdout",
          "output_type": "stream",
          "text": [
            "Hello there! I am Reyana, your healthcare assistant. Please enter your details to continue.\n",
            "Enter your name\n",
            "Aditi Sharma\n",
            "Enter your email\n",
            "aditisharma100201@gmail.com\n",
            "Enter your age\n",
            "20\n",
            "Enter your current location\n",
            "Noida\n"
          ]
        }
      ]
    },
    {
      "cell_type": "code",
      "metadata": {
        "colab": {
          "base_uri": "https://localhost:8080/",
          "height": 173
        },
        "id": "bvDF3L58pqxV",
        "outputId": "9a3fae97-86e8-42bc-8d8b-d23222ba9df1"
      },
      "source": [
        "#display csv file head\n",
        "\n",
        "inputs = pd.read_csv('/content/drive/MyDrive/Healthcare Chatbot 1/User_dataset.csv')\n",
        "\n",
        "inputs.head()"
      ],
      "execution_count": null,
      "outputs": [
        {
          "output_type": "execute_result",
          "data": {
            "text/html": [
              "<div>\n",
              "<style scoped>\n",
              "    .dataframe tbody tr th:only-of-type {\n",
              "        vertical-align: middle;\n",
              "    }\n",
              "\n",
              "    .dataframe tbody tr th {\n",
              "        vertical-align: top;\n",
              "    }\n",
              "\n",
              "    .dataframe thead th {\n",
              "        text-align: right;\n",
              "    }\n",
              "</style>\n",
              "<table border=\"1\" class=\"dataframe\">\n",
              "  <thead>\n",
              "    <tr style=\"text-align: right;\">\n",
              "      <th></th>\n",
              "      <th>name</th>\n",
              "      <th>email</th>\n",
              "      <th>age</th>\n",
              "      <th>current location</th>\n",
              "    </tr>\n",
              "  </thead>\n",
              "  <tbody>\n",
              "    <tr>\n",
              "      <th>0</th>\n",
              "      <td>Aditi</td>\n",
              "      <td>aditisharma100201@gmail.com</td>\n",
              "      <td>20</td>\n",
              "      <td>Noida</td>\n",
              "    </tr>\n",
              "    <tr>\n",
              "      <th>1</th>\n",
              "      <td>User1</td>\n",
              "      <td>abc@gmail.com</td>\n",
              "      <td>21</td>\n",
              "      <td>Delhi</td>\n",
              "    </tr>\n",
              "    <tr>\n",
              "      <th>2</th>\n",
              "      <td>Anushka</td>\n",
              "      <td>mokshapathak@rediffmail.com</td>\n",
              "      <td>20</td>\n",
              "      <td>Delhi</td>\n",
              "    </tr>\n",
              "    <tr>\n",
              "      <th>3</th>\n",
              "      <td>Aditi Sharma</td>\n",
              "      <td>aditisharma100201@gmail.com</td>\n",
              "      <td>20</td>\n",
              "      <td>Noida</td>\n",
              "    </tr>\n",
              "  </tbody>\n",
              "</table>\n",
              "</div>"
            ],
            "text/plain": [
              "           name                        email  age current location\n",
              "0         Aditi  aditisharma100201@gmail.com   20            Noida\n",
              "1         User1                abc@gmail.com   21            Delhi\n",
              "2       Anushka  mokshapathak@rediffmail.com   20            Delhi\n",
              "3  Aditi Sharma  aditisharma100201@gmail.com   20            Noida"
            ]
          },
          "metadata": {},
          "execution_count": 9
        }
      ]
    },
    {
      "cell_type": "markdown",
      "metadata": {
        "id": "iWUjOrH1HmUE"
      },
      "source": [
        "***Decision Tree Classifier***"
      ]
    },
    {
      "cell_type": "code",
      "metadata": {
        "id": "f_zJpenhVvV4"
      },
      "source": [
        "#function to remove punctuation\n",
        "#converts the input to lowercase\n",
        "\n",
        "def cleaner(x):\n",
        "  return [a for a in (''.join([a for a in x if a not in string.punctuation])).lower().split()]"
      ],
      "execution_count": null,
      "outputs": []
    },
    {
      "cell_type": "code",
      "metadata": {
        "execution": {
          "iopub.status.busy": "2021-09-21T18:27:09.741839Z",
          "iopub.execute_input": "2021-09-21T18:27:09.742106Z",
          "iopub.status.idle": "2021-09-21T18:27:09.750547Z",
          "shell.execute_reply.started": "2021-09-21T18:27:09.742080Z",
          "shell.execute_reply": "2021-09-21T18:27:09.749801Z"
        },
        "trusted": true,
        "id": "YjiZSfBvHmUF"
      },
      "source": [
        "#Creating a pipeline to facilitate conversation\n",
        "#Using Decision Tree for fitting data\n",
        "\n",
        "Pipe = Pipeline([\n",
        "    ('bow',CountVectorizer(analyzer=cleaner)),\n",
        "    ('tfidf',TfidfTransformer()),\n",
        "    ('classifier',DecisionTreeClassifier())\n",
        "])"
      ],
      "execution_count": null,
      "outputs": []
    },
    {
      "cell_type": "code",
      "metadata": {
        "execution": {
          "iopub.status.busy": "2021-09-21T18:27:09.751462Z",
          "iopub.execute_input": "2021-09-21T18:27:09.751870Z",
          "iopub.status.idle": "2021-09-21T18:27:22.309964Z",
          "shell.execute_reply.started": "2021-09-21T18:27:09.751842Z",
          "shell.execute_reply": "2021-09-21T18:27:22.308566Z"
        },
        "trusted": true,
        "id": "b7IiIanOHmUF",
        "colab": {
          "base_uri": "https://localhost:8080/"
        },
        "outputId": "82a0a30d-a2b6-4448-8ea7-be8ec4ab3a42"
      },
      "source": [
        "#Fitting our dataset in the pipeline\n",
        "\n",
        "Pipe.fit(df['User'],df['Chatbot'])"
      ],
      "execution_count": null,
      "outputs": [
        {
          "output_type": "execute_result",
          "data": {
            "text/plain": [
              "Pipeline(memory=None,\n",
              "         steps=[('bow',\n",
              "                 CountVectorizer(analyzer=<function cleaner at 0x7f2a8122c170>,\n",
              "                                 binary=False, decode_error='strict',\n",
              "                                 dtype=<class 'numpy.int64'>, encoding='utf-8',\n",
              "                                 input='content', lowercase=True, max_df=1.0,\n",
              "                                 max_features=None, min_df=1,\n",
              "                                 ngram_range=(1, 1), preprocessor=None,\n",
              "                                 stop_words=None, strip_accents=None,\n",
              "                                 token_pattern='(?u)\\\\b\\\\w\\\\w+\\\\b',\n",
              "                                 tok...\n",
              "                                  sublinear_tf=False, use_idf=True)),\n",
              "                ('classifier',\n",
              "                 DecisionTreeClassifier(ccp_alpha=0.0, class_weight=None,\n",
              "                                        criterion='gini', max_depth=None,\n",
              "                                        max_features=None, max_leaf_nodes=None,\n",
              "                                        min_impurity_decrease=0.0,\n",
              "                                        min_impurity_split=None,\n",
              "                                        min_samples_leaf=1, min_samples_split=2,\n",
              "                                        min_weight_fraction_leaf=0.0,\n",
              "                                        presort='deprecated', random_state=None,\n",
              "                                        splitter='best'))],\n",
              "         verbose=False)"
            ]
          },
          "metadata": {},
          "execution_count": 12
        }
      ]
    },
    {
      "cell_type": "markdown",
      "metadata": {
        "id": "lYPoSHXWHmUF"
      },
      "source": [
        "***Talking to chatbot***"
      ]
    },
    {
      "cell_type": "code",
      "metadata": {
        "id": "5CpgjI1P9EXq"
      },
      "source": [
        "input = \"\"\n",
        "input = 'MALARIA'"
      ],
      "execution_count": null,
      "outputs": []
    },
    {
      "cell_type": "code",
      "metadata": {
        "execution": {
          "iopub.status.busy": "2021-09-21T18:27:22.310902Z",
          "iopub.status.idle": "2021-09-21T18:27:22.311378Z"
        },
        "trusted": true,
        "id": "NYO8xWAzHmUF"
      },
      "source": [
        "output = Pipe.predict([input])[0]"
      ],
      "execution_count": null,
      "outputs": []
    },
    {
      "cell_type": "code",
      "metadata": {
        "id": "Ec0VIgN7fFec",
        "colab": {
          "base_uri": "https://localhost:8080/",
          "height": 35
        },
        "outputId": "44e5e0d1-9e6e-4616-a75a-87ff80975757"
      },
      "source": [
        "output"
      ],
      "execution_count": null,
      "outputs": [
        {
          "output_type": "execute_result",
          "data": {
            "application/vnd.google.colaboratory.intrinsic+json": {
              "type": "string"
            },
            "text/plain": [
              "'Consult nearest hospital,avoid oily food,avoid non veg food,keep mosquitos out'"
            ]
          },
          "metadata": {},
          "execution_count": 15
        }
      ]
    },
    {
      "cell_type": "markdown",
      "metadata": {
        "id": "tqbeDsasfTlJ"
      },
      "source": [
        "Collecting Data from Google"
      ]
    },
    {
      "cell_type": "code",
      "metadata": {
        "id": "DvIDdSD_629l"
      },
      "source": [
        "#uploading small English pipeline trained on written web text from Spacy\n",
        "\n",
        "nlp = spacy.load(\"en_core_web_sm\")"
      ],
      "execution_count": null,
      "outputs": []
    },
    {
      "cell_type": "code",
      "metadata": {
        "id": "jZDWBllA65z_"
      },
      "source": [
        "query = 'diabetes precautions'\n",
        "\n",
        "#getting top 10 links from google and storing it in a list\n",
        "search_result_list = list(search(query, tld=\"co.in\", num=10, stop=10, pause=1))"
      ],
      "execution_count": null,
      "outputs": []
    },
    {
      "cell_type": "code",
      "metadata": {
        "colab": {
          "base_uri": "https://localhost:8080/"
        },
        "id": "kgcl85si7Sig",
        "outputId": "512d8589-6d01-42d5-d76a-96637f09eae8"
      },
      "source": [
        "print(*search_result_list, sep='\\n')"
      ],
      "execution_count": null,
      "outputs": [
        {
          "output_type": "stream",
          "name": "stdout",
          "text": [
            "https://www.mayoclinic.org/diseases-conditions/diabetes/in-depth/diabetes-management/art-20045803\n",
            "https://www.mayoclinic.org/diseases-conditions/type-2-diabetes/in-depth/diabetes-prevention/art-20047639\n",
            "https://www.healthline.com/nutrition/prevent-diabetes\n",
            "https://www.healthline.com/nutrition/does-sugar-cause-diabetes\n",
            "https://www.healthline.com/health/type-2-diabetes/myths-and-misconceptions\n",
            "https://www.webmd.com/diabetes/lifestyle-tips-to-avoid-diabetes-complications\n",
            "https://www.webmd.com/diabetes/guide/diabetes-general-overview-facts\n",
            "https://www.webmd.com/diabetes/guide/diabetes-general-living-with\n",
            "https://www.webmd.com/diabetes/the-link-between-diabetes-and-gout\n",
            "https://www.webmd.com/diabetes/diabetes-types-insulin\n"
          ]
        }
      ]
    },
    {
      "cell_type": "markdown",
      "metadata": {
        "id": "u55eCIpn7dBl"
      },
      "source": [
        "Extracting Results"
      ]
    },
    {
      "cell_type": "code",
      "metadata": {
        "id": "cPm1Mnut7Y3n"
      },
      "source": [
        "#extracting html format of website\n",
        "\n",
        "url = search_result_list[0]\n",
        "\n",
        "r = requests.get(url)\n",
        "html = r.text"
      ],
      "execution_count": null,
      "outputs": []
    },
    {
      "cell_type": "code",
      "metadata": {
        "id": "-TvYlrqq7ui0"
      },
      "source": [
        "#converting to text\n",
        "\n",
        "soup = BeautifulSoup(html, \"html5lib\")\n",
        "\n",
        "text = soup.get_text()"
      ],
      "execution_count": null,
      "outputs": []
    },
    {
      "cell_type": "code",
      "metadata": {
        "id": "H6AtR4DG76v5"
      },
      "source": [
        "#working on text data\n",
        "\n",
        "for script in soup([\"script\", \"style\"]):\n",
        "    script.extract()   \n",
        "\n",
        "\n",
        "# break into lines and remove leading and trailing space on each\n",
        "lines = (line.strip() for line in text.splitlines())\n",
        "# break multi-headlines into a line each\n",
        "chunks = (phrase.strip() for line in lines for phrase in line.split(\"  \"))\n",
        "# drop blank lines\n",
        "text = '\\n'.join(chunk for chunk in chunks if chunk)\n",
        "\n",
        "#print(text)"
      ],
      "execution_count": null,
      "outputs": []
    },
    {
      "cell_type": "code",
      "metadata": {
        "colab": {
          "base_uri": "https://localhost:8080/"
        },
        "id": "LYyeSDqu8Zop",
        "outputId": "9442d1a2-9a8c-408e-fec0-e507ef481f0c"
      },
      "source": [
        "#printing results\n",
        "\n",
        "resultant = soup.findAll('h3')[:10]\n",
        "print(*resultant, sep='\\n')"
      ],
      "execution_count": null,
      "outputs": [
        {
          "output_type": "stream",
          "name": "stdout",
          "text": [
            "<h3>1. Make a commitment to managing your diabetes</h3>\n",
            "<h3>2. Don't smoke</h3>\n",
            "<h3>3. Keep your blood pressure and cholesterol under control</h3>\n",
            "<h3>4. Schedule regular physicals and eye exams</h3>\n",
            "<h3>5. Keep your vaccines up to date</h3>\n",
            "<h3>6. Take care of your teeth</h3>\n",
            "<h3>7. Pay attention to your feet</h3>\n",
            "<h3>8. Consider a daily aspirin</h3>\n",
            "<h3>9. If you drink alcohol, do so responsibly</h3>\n",
            "<h3>10. Take stress seriously</h3>\n"
          ]
        }
      ]
    },
    {
      "cell_type": "code",
      "metadata": {
        "colab": {
          "base_uri": "https://localhost:8080/"
        },
        "id": "hkdZLoxRXNuQ",
        "outputId": "60619ebc-c9e2-40d4-f6ea-c2b4ff6839d9"
      },
      "source": [
        "#removing tags, printing final result\n",
        "\n",
        "sol = []\n",
        "\n",
        "for i in range(len(resultant)):\n",
        "  sol.append(resultant[i].text)\n",
        "\n",
        "print(*sol, sep='\\n')"
      ],
      "execution_count": null,
      "outputs": [
        {
          "output_type": "stream",
          "name": "stdout",
          "text": [
            "1. Make a commitment to managing your diabetes\n",
            "2. Don't smoke\n",
            "3. Keep your blood pressure and cholesterol under control\n",
            "4. Schedule regular physicals and eye exams\n",
            "5. Keep your vaccines up to date\n",
            "6. Take care of your teeth\n",
            "7. Pay attention to your feet\n",
            "8. Consider a daily aspirin\n",
            "9. If you drink alcohol, do so responsibly\n",
            "10. Take stress seriously\n"
          ]
        }
      ]
    }
  ]
}